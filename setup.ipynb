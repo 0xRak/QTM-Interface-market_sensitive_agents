{
 "cells": [
  {
   "attachments": {},
   "cell_type": "markdown",
   "metadata": {},
   "source": [
    "# Run this file on a new environment with python 3.9 and this should download all the dependencies "
   ]
  },
  {
   "cell_type": "code",
   "execution_count": 1,
   "metadata": {},
   "outputs": [
    {
     "name": "stdout",
     "output_type": "stream",
     "text": [
      "Python 3.9.1\n"
     ]
    }
   ],
   "source": [
    "!python --version"
   ]
  },
  {
   "cell_type": "code",
   "execution_count": 3,
   "metadata": {},
   "outputs": [
    {
     "name": "stdout",
     "output_type": "stream",
     "text": [
      "Collecting radcad==0.8.4 (from -r requirements.txt (line 1))\n",
      "  Using cached radcad-0.8.4-py3-none-any.whl (23 kB)\n",
      "Collecting pytest==6.2.2 (from -r requirements.txt (line 2))\n",
      "  Using cached pytest-6.2.2-py3-none-any.whl (280 kB)\n",
      "Collecting ipykernel==5.5.3 (from -r requirements.txt (line 3))\n",
      "  Using cached ipykernel-5.5.3-py3-none-any.whl (120 kB)\n",
      "Collecting matplotlib==3.3.4 (from -r requirements.txt (line 4))\n",
      "  Using cached matplotlib-3.3.4.tar.gz (37.9 MB)\n",
      "  Installing build dependencies ... \u001b[?25ldone\n",
      "\u001b[?25h  Getting requirements to build wheel ... \u001b[?25ldone\n",
      "\u001b[?25h  Installing backend dependencies ... \u001b[?25ldone\n",
      "\u001b[?25h  Preparing metadata (pyproject.toml) ... \u001b[?25ldone\n",
      "\u001b[?25hCollecting plotly==4.14.3 (from -r requirements.txt (line 5))\n",
      "  Using cached plotly-4.14.3-py2.py3-none-any.whl (13.2 MB)\n",
      "Collecting stochastic==0.6.0 (from -r requirements.txt (line 6))\n",
      "  Using cached stochastic-0.6.0-py3-none-any.whl (49 kB)\n",
      "Collecting typing_extensions==3.7.4.3 (from -r requirements.txt (line 7))\n",
      "  Using cached typing_extensions-3.7.4.3-py3-none-any.whl (22 kB)\n",
      "Collecting black==20.8b1 (from -r requirements.txt (line 8))\n",
      "  Using cached black-20.8b1.tar.gz (1.1 MB)\n",
      "  Installing build dependencies ... \u001b[?25ldone\n",
      "\u001b[?25h  Getting requirements to build wheel ... \u001b[?25ldone\n",
      "\u001b[?25h  Preparing metadata (pyproject.toml) ... \u001b[?25ldone\n",
      "\u001b[?25hCollecting ipython-autotime==0.3.1 (from -r requirements.txt (line 9))\n",
      "  Using cached ipython_autotime-0.3.1-py2.py3-none-any.whl (6.8 kB)\n",
      "Collecting jupyter-dash==0.4.0 (from -r requirements.txt (line 10))\n",
      "  Using cached jupyter_dash-0.4.0-py3-none-any.whl (20 kB)\n",
      "Collecting jupyter-client==6.1.2 (from -r requirements.txt (line 11))\n",
      "  Using cached jupyter_client-6.1.2-py3-none-any.whl (106 kB)\n",
      "Collecting jupyterlab==3.0.17 (from -r requirements.txt (line 12))\n",
      "  Using cached jupyterlab-3.0.17-py3-none-any.whl (8.3 MB)\n",
      "Collecting ipywidgets==7.6.3 (from -r requirements.txt (line 13))\n",
      "  Using cached ipywidgets-7.6.3-py2.py3-none-any.whl (121 kB)\n",
      "Collecting notebook==6.4.1 (from -r requirements.txt (line 14))\n",
      "  Using cached notebook-6.4.1-py3-none-any.whl (9.7 MB)\n",
      "Collecting pdoc3==0.9.2 (from -r requirements.txt (line 15))\n",
      "  Using cached pdoc3-0.9.2.tar.gz (84 kB)\n",
      "  Installing build dependencies ... \u001b[?25ldone\n",
      "\u001b[?25h  Getting requirements to build wheel ... \u001b[?25ldone\n",
      "\u001b[?25h  Installing backend dependencies ... \u001b[?25ldone\n",
      "\u001b[?25h  Preparing metadata (pyproject.toml) ... \u001b[?25ldone\n",
      "\u001b[?25hCollecting jupyter-book==0.11.1 (from -r requirements.txt (line 16))\n",
      "  Using cached jupyter_book-0.11.1-py3-none-any.whl (42 kB)\n",
      "Collecting psutil==5.8.0 (from -r requirements.txt (line 17))\n",
      "  Using cached psutil-5.8.0.tar.gz (470 kB)\n",
      "  Installing build dependencies ... \u001b[?25ldone\n",
      "\u001b[?25h  Getting requirements to build wheel ... \u001b[?25ldone\n",
      "\u001b[?25h  Preparing metadata (pyproject.toml) ... \u001b[?25ldone\n",
      "\u001b[?25hCollecting kaleido==0.2.1 (from -r requirements.txt (line 18))\n",
      "  Using cached kaleido-0.2.1-py2.py3-none-macosx_10_11_x86_64.whl (85.2 MB)\n",
      "Collecting nbconvert==5.6.1 (from -r requirements.txt (line 19))\n",
      "  Using cached nbconvert-5.6.1-py2.py3-none-any.whl (455 kB)\n",
      "Collecting flask==2.0.0 (from -r requirements.txt (line 20))\n",
      "  Using cached Flask-2.0.0-py3-none-any.whl (93 kB)\n",
      "Collecting gunicorn==20.1.0 (from -r requirements.txt (line 21))\n",
      "  Using cached gunicorn-20.1.0-py3-none-any.whl (79 kB)\n",
      "Collecting cadCAD_tools==0.0.1.4 (from -r requirements.txt (line 22))\n",
      "  Using cached cadCAD_tools-0.0.1.4-py3-none-any.whl (7.3 kB)\n",
      "Collecting tqdm==4.61.0 (from -r requirements.txt (line 23))\n",
      "  Using cached tqdm-4.61.0-py2.py3-none-any.whl (75 kB)\n",
      "Collecting diskcache==5.2.1 (from -r requirements.txt (line 24))\n",
      "  Using cached diskcache-5.2.1-py3-none-any.whl (44 kB)\n",
      "Collecting pylint==2.8.3 (from -r requirements.txt (line 25))\n",
      "  Using cached pylint-2.8.3-py3-none-any.whl (357 kB)\n",
      "Collecting jupyterlab-spellchecker==0.6.0 (from -r requirements.txt (line 26))\n",
      "  Using cached jupyterlab_spellchecker-0.6.0-py3-none-any.whl (5.3 MB)\n",
      "Collecting pandas<2.0.0,>=1.0.0 (from radcad==0.8.4->-r requirements.txt (line 1))\n",
      "  Using cached pandas-1.5.3-cp310-cp310-macosx_10_9_x86_64.whl (12.0 MB)\n",
      "Collecting pathos<0.3.0,>=0.2.7 (from radcad==0.8.4->-r requirements.txt (line 1))\n",
      "  Using cached pathos-0.2.9-py3-none-any.whl (76 kB)\n",
      "Collecting attrs>=19.2.0 (from pytest==6.2.2->-r requirements.txt (line 2))\n",
      "  Using cached attrs-23.1.0-py3-none-any.whl (61 kB)\n",
      "Collecting iniconfig (from pytest==6.2.2->-r requirements.txt (line 2))\n",
      "  Using cached iniconfig-2.0.0-py3-none-any.whl (5.9 kB)\n",
      "Requirement already satisfied: packaging in /Users/anthonykatwan/Library/Python/3.10/lib/python/site-packages (from pytest==6.2.2->-r requirements.txt (line 2)) (23.1)\n",
      "Collecting pluggy<1.0.0a1,>=0.12 (from pytest==6.2.2->-r requirements.txt (line 2))\n",
      "  Using cached pluggy-0.13.1-py2.py3-none-any.whl (18 kB)\n",
      "Collecting py>=1.8.2 (from pytest==6.2.2->-r requirements.txt (line 2))\n",
      "  Using cached py-1.11.0-py2.py3-none-any.whl (98 kB)\n",
      "Collecting toml (from pytest==6.2.2->-r requirements.txt (line 2))\n",
      "  Using cached toml-0.10.2-py2.py3-none-any.whl (16 kB)\n",
      "Requirement already satisfied: ipython>=5.0.0 in /Users/anthonykatwan/Library/Python/3.10/lib/python/site-packages (from ipykernel==5.5.3->-r requirements.txt (line 3)) (8.12.0)\n",
      "Requirement already satisfied: traitlets>=4.1.0 in /Users/anthonykatwan/Library/Python/3.10/lib/python/site-packages (from ipykernel==5.5.3->-r requirements.txt (line 3)) (5.9.0)\n",
      "Requirement already satisfied: tornado>=4.2 in /Users/anthonykatwan/Library/Python/3.10/lib/python/site-packages (from ipykernel==5.5.3->-r requirements.txt (line 3)) (6.3)\n",
      "Requirement already satisfied: appnope in /Users/anthonykatwan/Library/Python/3.10/lib/python/site-packages (from ipykernel==5.5.3->-r requirements.txt (line 3)) (0.1.3)\n",
      "Collecting cycler>=0.10 (from matplotlib==3.3.4->-r requirements.txt (line 4))\n",
      "  Using cached cycler-0.11.0-py3-none-any.whl (6.4 kB)\n",
      "Collecting kiwisolver>=1.0.1 (from matplotlib==3.3.4->-r requirements.txt (line 4))\n",
      "  Using cached kiwisolver-1.4.4-cp310-cp310-macosx_10_9_x86_64.whl (65 kB)\n",
      "Collecting numpy>=1.15 (from matplotlib==3.3.4->-r requirements.txt (line 4))\n",
      "  Using cached numpy-1.24.2-cp310-cp310-macosx_10_9_x86_64.whl (19.8 MB)\n",
      "Collecting pillow>=6.2.0 (from matplotlib==3.3.4->-r requirements.txt (line 4))\n",
      "  Using cached Pillow-9.5.0-cp310-cp310-macosx_10_10_x86_64.whl (3.4 MB)\n",
      "Collecting pyparsing!=2.0.4,!=2.1.2,!=2.1.6,>=2.0.3 (from matplotlib==3.3.4->-r requirements.txt (line 4))\n",
      "  Using cached pyparsing-3.0.9-py3-none-any.whl (98 kB)\n",
      "Requirement already satisfied: python-dateutil>=2.1 in /Users/anthonykatwan/Library/Python/3.10/lib/python/site-packages (from matplotlib==3.3.4->-r requirements.txt (line 4)) (2.8.2)\n",
      "Collecting retrying>=1.3.3 (from plotly==4.14.3->-r requirements.txt (line 5))\n",
      "  Using cached retrying-1.3.4-py3-none-any.whl (11 kB)\n",
      "Requirement already satisfied: six in /Users/anthonykatwan/Library/Python/3.10/lib/python/site-packages (from plotly==4.14.3->-r requirements.txt (line 5)) (1.16.0)\n",
      "Collecting scipy<2.0,>=1.3 (from stochastic==0.6.0->-r requirements.txt (line 6))\n",
      "  Using cached scipy-1.10.1-cp310-cp310-macosx_10_9_x86_64.whl (35.1 MB)\n",
      "Collecting click>=7.1.2 (from black==20.8b1->-r requirements.txt (line 8))\n",
      "  Using cached click-8.1.3-py3-none-any.whl (96 kB)\n",
      "Collecting appdirs (from black==20.8b1->-r requirements.txt (line 8))\n",
      "  Using cached appdirs-1.4.4-py2.py3-none-any.whl (9.6 kB)\n",
      "Collecting typed-ast>=1.4.0 (from black==20.8b1->-r requirements.txt (line 8))\n",
      "  Using cached typed_ast-1.5.4-cp310-cp310-macosx_10_9_x86_64.whl (223 kB)\n",
      "Collecting regex>=2020.1.8 (from black==20.8b1->-r requirements.txt (line 8))\n",
      "  Using cached regex-2023.3.23-cp310-cp310-macosx_10_9_x86_64.whl (294 kB)\n",
      "Collecting pathspec<1,>=0.6 (from black==20.8b1->-r requirements.txt (line 8))\n",
      "  Using cached pathspec-0.11.1-py3-none-any.whl (29 kB)\n",
      "Collecting mypy-extensions>=0.4.3 (from black==20.8b1->-r requirements.txt (line 8))\n",
      "  Using cached mypy_extensions-1.0.0-py3-none-any.whl (4.7 kB)\n",
      "Collecting dash (from jupyter-dash==0.4.0->-r requirements.txt (line 10))\n",
      "  Using cached dash-2.9.3-py3-none-any.whl (10.2 MB)\n",
      "Collecting requests (from jupyter-dash==0.4.0->-r requirements.txt (line 10))\n",
      "  Using cached requests-2.28.2-py3-none-any.whl (62 kB)\n",
      "Collecting ansi2html (from jupyter-dash==0.4.0->-r requirements.txt (line 10))\n",
      "  Using cached ansi2html-1.8.0-py3-none-any.whl (16 kB)\n",
      "Requirement already satisfied: jupyter-core>=4.6.0 in /Users/anthonykatwan/Library/Python/3.10/lib/python/site-packages (from jupyter-client==6.1.2->-r requirements.txt (line 11)) (5.3.0)\n",
      "Requirement already satisfied: pyzmq>=13 in /Users/anthonykatwan/Library/Python/3.10/lib/python/site-packages (from jupyter-client==6.1.2->-r requirements.txt (line 11)) (25.0.2)\n",
      "Collecting jupyterlab-server~=2.3 (from jupyterlab==3.0.17->-r requirements.txt (line 12))\n",
      "  Using cached jupyterlab_server-2.22.1-py3-none-any.whl (57 kB)\n",
      "Collecting jupyter-server~=1.4 (from jupyterlab==3.0.17->-r requirements.txt (line 12))\n",
      "  Using cached jupyter_server-1.24.0-py3-none-any.whl (347 kB)\n",
      "Collecting nbclassic~=0.2 (from jupyterlab==3.0.17->-r requirements.txt (line 12))\n",
      "  Using cached nbclassic-0.5.5-py3-none-any.whl (10.0 MB)\n",
      "Collecting jinja2>=2.1 (from jupyterlab==3.0.17->-r requirements.txt (line 12))\n",
      "  Using cached Jinja2-3.1.2-py3-none-any.whl (133 kB)\n",
      "Collecting nbformat>=4.2.0 (from ipywidgets==7.6.3->-r requirements.txt (line 13))\n",
      "  Using cached nbformat-5.8.0-py3-none-any.whl (77 kB)\n",
      "Collecting widgetsnbextension~=3.5.0 (from ipywidgets==7.6.3->-r requirements.txt (line 13))\n",
      "  Using cached widgetsnbextension-3.5.2-py2.py3-none-any.whl (1.6 MB)\n",
      "Collecting jupyterlab-widgets>=1.0.0 (from ipywidgets==7.6.3->-r requirements.txt (line 13))\n",
      "  Using cached jupyterlab_widgets-3.0.7-py3-none-any.whl (198 kB)\n",
      "Collecting argon2-cffi (from notebook==6.4.1->-r requirements.txt (line 14))\n",
      "  Using cached argon2_cffi-21.3.0-py3-none-any.whl (14 kB)\n",
      "Collecting ipython-genutils (from notebook==6.4.1->-r requirements.txt (line 14))\n",
      "  Using cached ipython_genutils-0.2.0-py2.py3-none-any.whl (26 kB)\n",
      "Collecting Send2Trash>=1.5.0 (from notebook==6.4.1->-r requirements.txt (line 14))\n",
      "  Using cached Send2Trash-1.8.0-py3-none-any.whl (18 kB)\n",
      "Collecting terminado>=0.8.3 (from notebook==6.4.1->-r requirements.txt (line 14))\n",
      "  Using cached terminado-0.17.1-py3-none-any.whl (17 kB)\n",
      "Collecting prometheus-client (from notebook==6.4.1->-r requirements.txt (line 14))\n",
      "  Using cached prometheus_client-0.16.0-py3-none-any.whl (122 kB)\n",
      "Collecting mako (from pdoc3==0.9.2->-r requirements.txt (line 15))\n",
      "  Using cached Mako-1.2.4-py3-none-any.whl (78 kB)\n",
      "Collecting markdown>=3.0 (from pdoc3==0.9.2->-r requirements.txt (line 15))\n",
      "  Using cached Markdown-3.4.3-py3-none-any.whl (93 kB)\n",
      "Collecting docutils<0.17,>=0.15 (from jupyter-book==0.11.1->-r requirements.txt (line 16))\n",
      "  Using cached docutils-0.16-py2.py3-none-any.whl (548 kB)\n",
      "Collecting jsonschema (from jupyter-book==0.11.1->-r requirements.txt (line 16))\n",
      "  Using cached jsonschema-4.17.3-py3-none-any.whl (90 kB)\n",
      "Collecting jupyterbook-latex~=0.3.1 (from jupyter-book==0.11.1->-r requirements.txt (line 16))\n",
      "  Using cached jupyterbook_latex-0.3.1-py3-none-any.whl (10 kB)\n",
      "Collecting jupytext<1.11,>=1.8 (from jupyter-book==0.11.1->-r requirements.txt (line 16))\n",
      "  Using cached jupytext-1.10.3-py3-none-any.whl (290 kB)\n",
      "Collecting linkify-it-py~=1.0.1 (from jupyter-book==0.11.1->-r requirements.txt (line 16))\n",
      "  Using cached linkify_it_py-1.0.3-py3-none-any.whl (19 kB)\n",
      "Collecting myst-nb~=0.12.0 (from jupyter-book==0.11.1->-r requirements.txt (line 16))\n",
      "  Using cached myst_nb-0.12.3-py3-none-any.whl (37 kB)\n",
      "Collecting pyyaml (from jupyter-book==0.11.1->-r requirements.txt (line 16))\n",
      "  Using cached PyYAML-6.0-cp310-cp310-macosx_10_9_x86_64.whl (197 kB)\n",
      "Collecting sphinx<4,>=2 (from jupyter-book==0.11.1->-r requirements.txt (line 16))\n",
      "  Using cached Sphinx-3.5.4-py3-none-any.whl (2.8 MB)\n",
      "Collecting sphinx-comments (from jupyter-book==0.11.1->-r requirements.txt (line 16))\n",
      "  Using cached sphinx_comments-0.0.3-py3-none-any.whl (4.6 kB)\n",
      "Collecting sphinx-copybutton (from jupyter-book==0.11.1->-r requirements.txt (line 16))\n",
      "  Using cached sphinx_copybutton-0.5.2-py3-none-any.whl (13 kB)\n",
      "Collecting sphinx-external-toc~=0.2.0 (from jupyter-book==0.11.1->-r requirements.txt (line 16))\n",
      "  Using cached sphinx_external_toc-0.2.4-py3-none-any.whl (25 kB)\n",
      "Collecting sphinx-panels~=0.5.2 (from jupyter-book==0.11.1->-r requirements.txt (line 16))\n",
      "  Using cached sphinx_panels-0.5.2-py3-none-any.whl (87 kB)\n",
      "Collecting sphinx-thebe~=0.0.8 (from jupyter-book==0.11.1->-r requirements.txt (line 16))\n",
      "  Using cached sphinx_thebe-0.0.10-py3-none-any.whl (7.7 kB)\n",
      "Collecting sphinx-book-theme~=0.1.0 (from jupyter-book==0.11.1->-r requirements.txt (line 16))\n",
      "  Using cached sphinx_book_theme-0.1.10-py3-none-any.whl (94 kB)\n",
      "Collecting sphinx-togglebutton (from jupyter-book==0.11.1->-r requirements.txt (line 16))\n",
      "  Using cached sphinx_togglebutton-0.3.2-py3-none-any.whl (8.2 kB)\n",
      "Collecting sphinxcontrib-bibtex~=2.2.0 (from jupyter-book==0.11.1->-r requirements.txt (line 16))\n",
      "  Using cached sphinxcontrib_bibtex-2.2.1-py3-none-any.whl (31 kB)\n",
      "Collecting mistune<2,>=0.8.1 (from nbconvert==5.6.1->-r requirements.txt (line 19))\n",
      "  Using cached mistune-0.8.4-py2.py3-none-any.whl (16 kB)\n",
      "Requirement already satisfied: pygments in /Users/anthonykatwan/Library/Python/3.10/lib/python/site-packages (from nbconvert==5.6.1->-r requirements.txt (line 19)) (2.15.0)\n",
      "Collecting entrypoints>=0.2.2 (from nbconvert==5.6.1->-r requirements.txt (line 19))\n",
      "  Using cached entrypoints-0.4-py3-none-any.whl (5.3 kB)\n",
      "Collecting bleach (from nbconvert==5.6.1->-r requirements.txt (line 19))\n",
      "  Using cached bleach-6.0.0-py3-none-any.whl (162 kB)\n",
      "Collecting pandocfilters>=1.4.1 (from nbconvert==5.6.1->-r requirements.txt (line 19))\n",
      "  Using cached pandocfilters-1.5.0-py2.py3-none-any.whl (8.7 kB)\n",
      "Collecting testpath (from nbconvert==5.6.1->-r requirements.txt (line 19))\n",
      "  Using cached testpath-0.6.0-py3-none-any.whl (83 kB)\n",
      "Collecting defusedxml (from nbconvert==5.6.1->-r requirements.txt (line 19))\n",
      "  Using cached defusedxml-0.7.1-py2.py3-none-any.whl (25 kB)\n",
      "Collecting Werkzeug>=2.0 (from flask==2.0.0->-r requirements.txt (line 20))\n",
      "  Using cached Werkzeug-2.2.3-py3-none-any.whl (233 kB)\n",
      "Collecting itsdangerous>=2.0 (from flask==2.0.0->-r requirements.txt (line 20))\n",
      "  Using cached itsdangerous-2.1.2-py3-none-any.whl (15 kB)\n",
      "Requirement already satisfied: setuptools>=3.0 in /Library/Frameworks/Python.framework/Versions/3.10/lib/python3.10/site-packages (from gunicorn==20.1.0->-r requirements.txt (line 21)) (58.1.0)\n",
      "Collecting cadCAD (from cadCAD_tools==0.0.1.4->-r requirements.txt (line 22))\n",
      "  Using cached cadCAD-0.4.28-py3-none-any.whl (60 kB)\n",
      "Collecting astroid==2.5.6 (from pylint==2.8.3->-r requirements.txt (line 25))\n",
      "  Using cached astroid-2.5.6-py3-none-any.whl (219 kB)\n",
      "Collecting isort<6,>=4.2.5 (from pylint==2.8.3->-r requirements.txt (line 25))\n",
      "  Using cached isort-5.12.0-py3-none-any.whl (91 kB)\n",
      "Collecting mccabe<0.7,>=0.6 (from pylint==2.8.3->-r requirements.txt (line 25))\n",
      "  Using cached mccabe-0.6.1-py2.py3-none-any.whl (8.6 kB)\n",
      "Collecting babel (from jupyterlab-spellchecker==0.6.0->-r requirements.txt (line 26))\n",
      "  Using cached Babel-2.12.1-py3-none-any.whl (10.1 MB)\n",
      "Collecting lazy-object-proxy>=1.4.0 (from astroid==2.5.6->pylint==2.8.3->-r requirements.txt (line 25))\n",
      "  Using cached lazy_object_proxy-1.9.0-cp310-cp310-macosx_10_9_x86_64.whl (22 kB)\n",
      "Collecting wrapt<1.13,>=1.11 (from astroid==2.5.6->pylint==2.8.3->-r requirements.txt (line 25))\n",
      "  Using cached wrapt-1.12.1.tar.gz (27 kB)\n",
      "  Installing build dependencies ... \u001b[?25ldone\n",
      "\u001b[?25h  Getting requirements to build wheel ... \u001b[?25ldone\n",
      "\u001b[?25h  Preparing metadata (pyproject.toml) ... \u001b[?25ldone\n",
      "\u001b[?25hRequirement already satisfied: backcall in /Users/anthonykatwan/Library/Python/3.10/lib/python/site-packages (from ipython>=5.0.0->ipykernel==5.5.3->-r requirements.txt (line 3)) (0.2.0)\n",
      "Requirement already satisfied: decorator in /Users/anthonykatwan/Library/Python/3.10/lib/python/site-packages (from ipython>=5.0.0->ipykernel==5.5.3->-r requirements.txt (line 3)) (5.1.1)\n",
      "Requirement already satisfied: jedi>=0.16 in /Users/anthonykatwan/Library/Python/3.10/lib/python/site-packages (from ipython>=5.0.0->ipykernel==5.5.3->-r requirements.txt (line 3)) (0.18.2)\n",
      "Requirement already satisfied: matplotlib-inline in /Users/anthonykatwan/Library/Python/3.10/lib/python/site-packages (from ipython>=5.0.0->ipykernel==5.5.3->-r requirements.txt (line 3)) (0.1.6)\n",
      "Requirement already satisfied: pickleshare in /Users/anthonykatwan/Library/Python/3.10/lib/python/site-packages (from ipython>=5.0.0->ipykernel==5.5.3->-r requirements.txt (line 3)) (0.7.5)\n",
      "Requirement already satisfied: prompt-toolkit!=3.0.37,<3.1.0,>=3.0.30 in /Users/anthonykatwan/Library/Python/3.10/lib/python/site-packages (from ipython>=5.0.0->ipykernel==5.5.3->-r requirements.txt (line 3)) (3.0.38)\n",
      "Requirement already satisfied: stack-data in /Users/anthonykatwan/Library/Python/3.10/lib/python/site-packages (from ipython>=5.0.0->ipykernel==5.5.3->-r requirements.txt (line 3)) (0.6.2)\n",
      "Requirement already satisfied: pexpect>4.3 in /Users/anthonykatwan/Library/Python/3.10/lib/python/site-packages (from ipython>=5.0.0->ipykernel==5.5.3->-r requirements.txt (line 3)) (4.8.0)\n",
      "Collecting MarkupSafe>=2.0 (from jinja2>=2.1->jupyterlab==3.0.17->-r requirements.txt (line 12))\n",
      "  Using cached MarkupSafe-2.1.2-cp310-cp310-macosx_10_9_x86_64.whl (13 kB)\n",
      "Requirement already satisfied: platformdirs>=2.5 in /Users/anthonykatwan/Library/Python/3.10/lib/python/site-packages (from jupyter-core>=4.6.0->jupyter-client==6.1.2->-r requirements.txt (line 11)) (3.2.0)\n",
      "Collecting anyio<4,>=3.1.0 (from jupyter-server~=1.4->jupyterlab==3.0.17->-r requirements.txt (line 12))\n",
      "  Using cached anyio-3.6.2-py3-none-any.whl (80 kB)\n",
      "INFO: pip is looking at multiple versions of jupyter-server to determine which version is compatible with other requirements. This could take a while.\n",
      "Collecting jupyter-server~=1.4 (from jupyterlab==3.0.17->-r requirements.txt (line 12))\n",
      "  Using cached jupyter_server-1.23.6-py3-none-any.whl (347 kB)\n",
      "  Using cached jupyter_server-1.23.5-py3-none-any.whl (346 kB)\n",
      "  Using cached jupyter_server-1.23.4-py3-none-any.whl (346 kB)\n",
      "  Using cached jupyter_server-1.23.3-py3-none-any.whl (346 kB)\n",
      "  Using cached jupyter_server-1.23.2-py3-none-any.whl (346 kB)\n",
      "  Using cached jupyter_server-1.23.1-py3-none-any.whl (346 kB)\n",
      "  Using cached jupyter_server-1.23.0-py3-none-any.whl (346 kB)\n",
      "INFO: pip is looking at multiple versions of jupyter-server to determine which version is compatible with other requirements. This could take a while.\n",
      "  Using cached jupyter_server-1.21.0-py3-none-any.whl (346 kB)\n",
      "  Using cached jupyter_server-1.19.1-py3-none-any.whl (346 kB)\n",
      "  Using cached jupyter_server-1.19.0-py3-none-any.whl (346 kB)\n",
      "  Using cached jupyter_server-1.18.1-py3-none-any.whl (344 kB)\n",
      "  Using cached jupyter_server-1.18.0-py3-none-any.whl (344 kB)\n",
      "INFO: This is taking longer than usual. You might need to provide the dependency resolver with stricter constraints to reduce runtime. See https://pip.pypa.io/warnings/backtracking for guidance. If you want to abort this run, press Ctrl + C.\n",
      "  Using cached jupyter_server-1.17.1-py3-none-any.whl (344 kB)\n",
      "  Using cached jupyter_server-1.17.0-py3-none-any.whl (342 kB)\n",
      "  Using cached jupyter_server-1.16.0-py3-none-any.whl (343 kB)\n",
      "  Using cached jupyter_server-1.15.6-py3-none-any.whl (341 kB)\n",
      "Collecting websocket-client (from jupyter-server~=1.4->jupyterlab==3.0.17->-r requirements.txt (line 12))\n",
      "  Using cached websocket_client-1.5.1-py3-none-any.whl (55 kB)\n",
      "Collecting json5>=0.9.0 (from jupyterlab-server~=2.3->jupyterlab==3.0.17->-r requirements.txt (line 12))\n",
      "  Using cached json5-0.9.11-py2.py3-none-any.whl (19 kB)\n",
      "Collecting pyrsistent!=0.17.0,!=0.17.1,!=0.17.2,>=0.14.0 (from jsonschema->jupyter-book==0.11.1->-r requirements.txt (line 16))\n",
      "  Using cached pyrsistent-0.19.3-cp310-cp310-macosx_10_9_universal2.whl (82 kB)\n",
      "Collecting jupyterlab-server~=2.3 (from jupyterlab==3.0.17->-r requirements.txt (line 12))\n",
      "  Using cached jupyterlab_server-2.22.0-py3-none-any.whl (57 kB)\n",
      "  Using cached jupyterlab_server-2.21.0-py3-none-any.whl (56 kB)\n",
      "  Using cached jupyterlab_server-2.20.0-py3-none-any.whl (56 kB)\n",
      "  Using cached jupyterlab_server-2.19.0-py3-none-any.whl (56 kB)\n",
      "  Using cached jupyterlab_server-2.18.0-py3-none-any.whl (56 kB)\n",
      "  Using cached jupyterlab_server-2.17.0-py3-none-any.whl (55 kB)\n",
      "  Using cached jupyterlab_server-2.16.6-py3-none-any.whl (54 kB)\n",
      "  Using cached jupyterlab_server-2.16.5-py3-none-any.whl (54 kB)\n",
      "  Using cached jupyterlab_server-2.16.3-py3-none-any.whl (54 kB)\n",
      "Collecting markdown-it-py~=0.6.0 (from jupytext<1.11,>=1.8->jupyter-book==0.11.1->-r requirements.txt (line 16))\n",
      "  Using cached markdown_it_py-0.6.2-py3-none-any.whl (81 kB)\n",
      "Collecting uc-micro-py (from linkify-it-py~=1.0.1->jupyter-book==0.11.1->-r requirements.txt (line 16))\n",
      "  Using cached uc_micro_py-1.0.1-py3-none-any.whl (6.2 kB)\n",
      "Collecting importlib-metadata (from myst-nb~=0.12.0->jupyter-book==0.11.1->-r requirements.txt (line 16))\n",
      "  Using cached importlib_metadata-6.5.0-py3-none-any.whl (22 kB)\n",
      "Collecting jupyter-cache~=0.4.1 (from myst-nb~=0.12.0->jupyter-book==0.11.1->-r requirements.txt (line 16))\n",
      "  Using cached jupyter_cache-0.4.3-py3-none-any.whl (31 kB)\n",
      "Collecting jupyter-sphinx~=0.3.2 (from myst-nb~=0.12.0->jupyter-book==0.11.1->-r requirements.txt (line 16))\n",
      "  Using cached jupyter_sphinx-0.3.2-py3-none-any.whl (20 kB)\n",
      "Collecting myst-parser~=0.13.5 (from myst-nb~=0.12.0->jupyter-book==0.11.1->-r requirements.txt (line 16))\n",
      "  Using cached myst_parser-0.13.7-py3-none-any.whl (44 kB)\n",
      "Collecting sphinx-togglebutton (from jupyter-book==0.11.1->-r requirements.txt (line 16))\n",
      "  Using cached sphinx_togglebutton-0.2.3-py3-none-any.whl (6.1 kB)\n",
      "Collecting notebook-shim>=0.1.0 (from nbclassic~=0.2->jupyterlab==3.0.17->-r requirements.txt (line 12))\n",
      "  Using cached notebook_shim-0.2.2-py3-none-any.whl (13 kB)\n",
      "Requirement already satisfied: nest-asyncio>=1.5 in /Users/anthonykatwan/Library/Python/3.10/lib/python/site-packages (from nbclassic~=0.2->jupyterlab==3.0.17->-r requirements.txt (line 12)) (1.5.6)\n",
      "Collecting fastjsonschema (from nbformat>=4.2.0->ipywidgets==7.6.3->-r requirements.txt (line 13))\n",
      "  Using cached fastjsonschema-2.16.3-py3-none-any.whl (23 kB)\n",
      "Collecting pytz>=2020.1 (from pandas<2.0.0,>=1.0.0->radcad==0.8.4->-r requirements.txt (line 1))\n",
      "  Using cached pytz-2023.3-py2.py3-none-any.whl (502 kB)\n",
      "Collecting ppft>=1.7.6.5 (from pathos<0.3.0,>=0.2.7->radcad==0.8.4->-r requirements.txt (line 1))\n",
      "  Using cached ppft-1.7.6.6-py3-none-any.whl (52 kB)\n",
      "Collecting dill>=0.3.5.1 (from pathos<0.3.0,>=0.2.7->radcad==0.8.4->-r requirements.txt (line 1))\n",
      "  Using cached dill-0.3.6-py3-none-any.whl (110 kB)\n",
      "Collecting pox>=0.3.1 (from pathos<0.3.0,>=0.2.7->radcad==0.8.4->-r requirements.txt (line 1))\n",
      "  Using cached pox-0.3.2-py3-none-any.whl (29 kB)\n",
      "Collecting multiprocess>=0.70.13 (from pathos<0.3.0,>=0.2.7->radcad==0.8.4->-r requirements.txt (line 1))\n",
      "  Using cached multiprocess-0.70.14-py310-none-any.whl (134 kB)\n",
      "Collecting sphinxcontrib-applehelp (from sphinx<4,>=2->jupyter-book==0.11.1->-r requirements.txt (line 16))\n",
      "  Using cached sphinxcontrib_applehelp-1.0.4-py3-none-any.whl (120 kB)\n",
      "Collecting sphinxcontrib-devhelp (from sphinx<4,>=2->jupyter-book==0.11.1->-r requirements.txt (line 16))\n",
      "  Using cached sphinxcontrib_devhelp-1.0.2-py2.py3-none-any.whl (84 kB)\n",
      "Collecting sphinxcontrib-jsmath (from sphinx<4,>=2->jupyter-book==0.11.1->-r requirements.txt (line 16))\n",
      "  Using cached sphinxcontrib_jsmath-1.0.1-py2.py3-none-any.whl (5.1 kB)\n",
      "Collecting sphinxcontrib-htmlhelp (from sphinx<4,>=2->jupyter-book==0.11.1->-r requirements.txt (line 16))\n",
      "  Using cached sphinxcontrib_htmlhelp-2.0.1-py3-none-any.whl (99 kB)\n",
      "Collecting sphinxcontrib-serializinghtml (from sphinx<4,>=2->jupyter-book==0.11.1->-r requirements.txt (line 16))\n",
      "  Using cached sphinxcontrib_serializinghtml-1.1.5-py2.py3-none-any.whl (94 kB)\n",
      "Collecting sphinxcontrib-qthelp (from sphinx<4,>=2->jupyter-book==0.11.1->-r requirements.txt (line 16))\n",
      "  Using cached sphinxcontrib_qthelp-1.0.3-py2.py3-none-any.whl (90 kB)\n",
      "Collecting snowballstemmer>=1.1 (from sphinx<4,>=2->jupyter-book==0.11.1->-r requirements.txt (line 16))\n",
      "  Using cached snowballstemmer-2.2.0-py2.py3-none-any.whl (93 kB)\n",
      "Collecting alabaster<0.8,>=0.7 (from sphinx<4,>=2->jupyter-book==0.11.1->-r requirements.txt (line 16))\n",
      "  Using cached alabaster-0.7.13-py3-none-any.whl (13 kB)\n",
      "Collecting imagesize (from sphinx<4,>=2->jupyter-book==0.11.1->-r requirements.txt (line 16))\n",
      "  Using cached imagesize-1.4.1-py2.py3-none-any.whl (8.8 kB)\n",
      "Collecting charset-normalizer<4,>=2 (from requests->jupyter-dash==0.4.0->-r requirements.txt (line 10))\n",
      "  Using cached charset_normalizer-3.1.0-cp310-cp310-macosx_10_9_x86_64.whl (124 kB)\n",
      "Collecting idna<4,>=2.5 (from requests->jupyter-dash==0.4.0->-r requirements.txt (line 10))\n",
      "  Using cached idna-3.4-py3-none-any.whl (61 kB)\n",
      "Collecting urllib3<1.27,>=1.21.1 (from requests->jupyter-dash==0.4.0->-r requirements.txt (line 10))\n",
      "  Using cached urllib3-1.26.15-py2.py3-none-any.whl (140 kB)\n",
      "Collecting certifi>=2017.4.17 (from requests->jupyter-dash==0.4.0->-r requirements.txt (line 10))\n",
      "  Using cached certifi-2022.12.7-py3-none-any.whl (155 kB)\n",
      "Collecting beautifulsoup4<5,>=4.6.1 (from sphinx-book-theme~=0.1.0->jupyter-book==0.11.1->-r requirements.txt (line 16))\n",
      "  Using cached beautifulsoup4-4.12.2-py3-none-any.whl (142 kB)\n",
      "Collecting pydata-sphinx-theme~=0.7.2 (from sphinx-book-theme~=0.1.0->jupyter-book==0.11.1->-r requirements.txt (line 16))\n",
      "  Using cached pydata_sphinx_theme-0.7.2-py3-none-any.whl (1.4 MB)\n",
      "Collecting attrs>=19.2.0 (from pytest==6.2.2->-r requirements.txt (line 2))\n",
      "  Using cached attrs-21.4.0-py2.py3-none-any.whl (60 kB)\n",
      "Collecting wheel (from sphinx-togglebutton->jupyter-book==0.11.1->-r requirements.txt (line 16))\n",
      "  Using cached wheel-0.40.0-py3-none-any.whl (64 kB)\n",
      "Collecting pybtex-docutils>=1.0.0 (from sphinxcontrib-bibtex~=2.2.0->jupyter-book==0.11.1->-r requirements.txt (line 16))\n",
      "  Using cached pybtex_docutils-1.0.2-py3-none-any.whl (6.3 kB)\n",
      "Collecting pybtex>=0.20 (from sphinxcontrib-bibtex~=2.2.0->jupyter-book==0.11.1->-r requirements.txt (line 16))\n",
      "  Using cached pybtex-0.24.0-py2.py3-none-any.whl (561 kB)\n",
      "Requirement already satisfied: ptyprocess in /Users/anthonykatwan/Library/Python/3.10/lib/python/site-packages (from terminado>=0.8.3->notebook==6.4.1->-r requirements.txt (line 14)) (0.7.0)\n",
      "Collecting argon2-cffi-bindings (from argon2-cffi->notebook==6.4.1->-r requirements.txt (line 14))\n",
      "  Using cached argon2_cffi_bindings-21.2.0-cp38-abi3-macosx_10_9_universal2.whl (53 kB)\n",
      "Collecting webencodings (from bleach->nbconvert==5.6.1->-r requirements.txt (line 19))\n",
      "  Using cached webencodings-0.5.1-py2.py3-none-any.whl (11 kB)\n",
      "Collecting fn (from cadCAD->cadCAD_tools==0.0.1.4->-r requirements.txt (line 22))\n",
      "  Using cached fn-0.4.3.tar.gz (38 kB)\n",
      "  Installing build dependencies ... \u001b[?25ldone\n",
      "\u001b[?25h  Getting requirements to build wheel ... \u001b[?25lerror\n",
      "  \u001b[1;31merror\u001b[0m: \u001b[1msubprocess-exited-with-error\u001b[0m\n",
      "  \n",
      "  \u001b[31m×\u001b[0m \u001b[32mGetting requirements to build wheel\u001b[0m did not run successfully.\n",
      "  \u001b[31m│\u001b[0m exit code: \u001b[1;36m1\u001b[0m\n",
      "  \u001b[31m╰─>\u001b[0m \u001b[31m[23 lines of output]\u001b[0m\n",
      "  \u001b[31m   \u001b[0m Traceback (most recent call last):\n",
      "  \u001b[31m   \u001b[0m   File \"/Library/Frameworks/Python.framework/Versions/3.10/lib/python3.10/site-packages/pip/_vendor/pyproject_hooks/_in_process/_in_process.py\", line 353, in <module>\n",
      "  \u001b[31m   \u001b[0m     main()\n",
      "  \u001b[31m   \u001b[0m   File \"/Library/Frameworks/Python.framework/Versions/3.10/lib/python3.10/site-packages/pip/_vendor/pyproject_hooks/_in_process/_in_process.py\", line 335, in main\n",
      "  \u001b[31m   \u001b[0m     json_out['return_val'] = hook(**hook_input['kwargs'])\n",
      "  \u001b[31m   \u001b[0m   File \"/Library/Frameworks/Python.framework/Versions/3.10/lib/python3.10/site-packages/pip/_vendor/pyproject_hooks/_in_process/_in_process.py\", line 118, in get_requires_for_build_wheel\n",
      "  \u001b[31m   \u001b[0m     return hook(config_settings)\n",
      "  \u001b[31m   \u001b[0m   File \"/private/var/folders/1t/5t776sq96779p785bgzmh9h40000gn/T/pip-build-env-eei5q7mb/overlay/lib/python3.10/site-packages/setuptools/build_meta.py\", line 341, in get_requires_for_build_wheel\n",
      "  \u001b[31m   \u001b[0m     return self._get_build_requires(config_settings, requirements=['wheel'])\n",
      "  \u001b[31m   \u001b[0m   File \"/private/var/folders/1t/5t776sq96779p785bgzmh9h40000gn/T/pip-build-env-eei5q7mb/overlay/lib/python3.10/site-packages/setuptools/build_meta.py\", line 323, in _get_build_requires\n",
      "  \u001b[31m   \u001b[0m     self.run_setup()\n",
      "  \u001b[31m   \u001b[0m   File \"/private/var/folders/1t/5t776sq96779p785bgzmh9h40000gn/T/pip-build-env-eei5q7mb/overlay/lib/python3.10/site-packages/setuptools/build_meta.py\", line 487, in run_setup\n",
      "  \u001b[31m   \u001b[0m     super(_BuildMetaLegacyBackend,\n",
      "  \u001b[31m   \u001b[0m   File \"/private/var/folders/1t/5t776sq96779p785bgzmh9h40000gn/T/pip-build-env-eei5q7mb/overlay/lib/python3.10/site-packages/setuptools/build_meta.py\", line 338, in run_setup\n",
      "  \u001b[31m   \u001b[0m     exec(code, locals())\n",
      "  \u001b[31m   \u001b[0m   File \"<string>\", line 6, in <module>\n",
      "  \u001b[31m   \u001b[0m   File \"/private/var/folders/1t/5t776sq96779p785bgzmh9h40000gn/T/pip-install-tvyraiw1/fn_fe54675e97234f78a50cd247cde406fe/fn/__init__.py\", line 1, in <module>\n",
      "  \u001b[31m   \u001b[0m     from .stream import Stream\n",
      "  \u001b[31m   \u001b[0m   File \"/private/var/folders/1t/5t776sq96779p785bgzmh9h40000gn/T/pip-install-tvyraiw1/fn_fe54675e97234f78a50cd247cde406fe/fn/stream.py\", line 9, in <module>\n",
      "  \u001b[31m   \u001b[0m     from .iters import map, range\n",
      "  \u001b[31m   \u001b[0m   File \"/private/var/folders/1t/5t776sq96779p785bgzmh9h40000gn/T/pip-install-tvyraiw1/fn_fe54675e97234f78a50cd247cde406fe/fn/iters.py\", line 2, in <module>\n",
      "  \u001b[31m   \u001b[0m     from collections import deque, Iterable\n",
      "  \u001b[31m   \u001b[0m ImportError: cannot import name 'Iterable' from 'collections' (/Library/Frameworks/Python.framework/Versions/3.10/lib/python3.10/collections/__init__.py)\n",
      "  \u001b[31m   \u001b[0m \u001b[31m[end of output]\u001b[0m\n",
      "  \n",
      "  \u001b[1;35mnote\u001b[0m: This error originates from a subprocess, and is likely not a problem with pip.\n",
      "\u001b[?25h\u001b[1;31merror\u001b[0m: \u001b[1msubprocess-exited-with-error\u001b[0m\n",
      "\n",
      "\u001b[31m×\u001b[0m \u001b[32mGetting requirements to build wheel\u001b[0m did not run successfully.\n",
      "\u001b[31m│\u001b[0m exit code: \u001b[1;36m1\u001b[0m\n",
      "\u001b[31m╰─>\u001b[0m See above for output.\n",
      "\n",
      "\u001b[1;35mnote\u001b[0m: This error originates from a subprocess, and is likely not a problem with pip.\n",
      "Note: you may need to restart the kernel to use updated packages.\n"
     ]
    }
   ],
   "source": [
    "%pip install -r requirements.txt"
   ]
  },
  {
   "cell_type": "code",
   "execution_count": 5,
   "metadata": {},
   "outputs": [
    {
     "name": "stdout",
     "output_type": "stream",
     "text": [
      "\u001b[33mWARNING: Package(s) not found: radcad\u001b[0m\u001b[33m\n",
      "\u001b[0mNote: you may need to restart the kernel to use updated packages.\n"
     ]
    }
   ],
   "source": [
    "%pip show radcad"
   ]
  },
  {
   "cell_type": "code",
   "execution_count": 1,
   "metadata": {},
   "outputs": [
    {
     "ename": "ModuleNotFoundError",
     "evalue": "No module named 'radcad'",
     "output_type": "error",
     "traceback": [
      "\u001b[0;31m---------------------------------------------------------------------------\u001b[0m",
      "\u001b[0;31mModuleNotFoundError\u001b[0m                       Traceback (most recent call last)",
      "Cell \u001b[0;32mIn[1], line 1\u001b[0m\n\u001b[0;32m----> 1\u001b[0m \u001b[39mimport\u001b[39;00m \u001b[39mradcad\u001b[39;00m\n",
      "\u001b[0;31mModuleNotFoundError\u001b[0m: No module named 'radcad'"
     ]
    }
   ],
   "source": [
    "import radcad"
   ]
  },
  {
   "cell_type": "code",
   "execution_count": null,
   "metadata": {},
   "outputs": [
    {
     "data": {
      "application/vnd.plotly.v1+json": {
       "config": {
        "plotlyServerURL": "https://plot.ly"
       },
       "data": [
        {
         "hovertemplate": "x=%{x}<br>y=%{y}<extra></extra>",
         "legendgroup": "",
         "line": {
          "color": "#636efa",
          "dash": "solid"
         },
         "mode": "lines",
         "name": "",
         "orientation": "v",
         "showlegend": false,
         "type": "scatter",
         "x": [
          0,
          1,
          2
         ],
         "xaxis": "x",
         "y": [
          0,
          1,
          2
         ],
         "yaxis": "y"
        }
       ],
       "layout": {
        "legend": {
         "tracegroupgap": 0
        },
        "margin": {
         "t": 60
        },
        "template": {
         "data": {
          "bar": [
           {
            "error_x": {
             "color": "#2a3f5f"
            },
            "error_y": {
             "color": "#2a3f5f"
            },
            "marker": {
             "line": {
              "color": "#E5ECF6",
              "width": 0.5
             }
            },
            "type": "bar"
           }
          ],
          "barpolar": [
           {
            "marker": {
             "line": {
              "color": "#E5ECF6",
              "width": 0.5
             }
            },
            "type": "barpolar"
           }
          ],
          "carpet": [
           {
            "aaxis": {
             "endlinecolor": "#2a3f5f",
             "gridcolor": "white",
             "linecolor": "white",
             "minorgridcolor": "white",
             "startlinecolor": "#2a3f5f"
            },
            "baxis": {
             "endlinecolor": "#2a3f5f",
             "gridcolor": "white",
             "linecolor": "white",
             "minorgridcolor": "white",
             "startlinecolor": "#2a3f5f"
            },
            "type": "carpet"
           }
          ],
          "choropleth": [
           {
            "colorbar": {
             "outlinewidth": 0,
             "ticks": ""
            },
            "type": "choropleth"
           }
          ],
          "contour": [
           {
            "colorbar": {
             "outlinewidth": 0,
             "ticks": ""
            },
            "colorscale": [
             [
              0,
              "#0d0887"
             ],
             [
              0.1111111111111111,
              "#46039f"
             ],
             [
              0.2222222222222222,
              "#7201a8"
             ],
             [
              0.3333333333333333,
              "#9c179e"
             ],
             [
              0.4444444444444444,
              "#bd3786"
             ],
             [
              0.5555555555555556,
              "#d8576b"
             ],
             [
              0.6666666666666666,
              "#ed7953"
             ],
             [
              0.7777777777777778,
              "#fb9f3a"
             ],
             [
              0.8888888888888888,
              "#fdca26"
             ],
             [
              1,
              "#f0f921"
             ]
            ],
            "type": "contour"
           }
          ],
          "contourcarpet": [
           {
            "colorbar": {
             "outlinewidth": 0,
             "ticks": ""
            },
            "type": "contourcarpet"
           }
          ],
          "heatmap": [
           {
            "colorbar": {
             "outlinewidth": 0,
             "ticks": ""
            },
            "colorscale": [
             [
              0,
              "#0d0887"
             ],
             [
              0.1111111111111111,
              "#46039f"
             ],
             [
              0.2222222222222222,
              "#7201a8"
             ],
             [
              0.3333333333333333,
              "#9c179e"
             ],
             [
              0.4444444444444444,
              "#bd3786"
             ],
             [
              0.5555555555555556,
              "#d8576b"
             ],
             [
              0.6666666666666666,
              "#ed7953"
             ],
             [
              0.7777777777777778,
              "#fb9f3a"
             ],
             [
              0.8888888888888888,
              "#fdca26"
             ],
             [
              1,
              "#f0f921"
             ]
            ],
            "type": "heatmap"
           }
          ],
          "heatmapgl": [
           {
            "colorbar": {
             "outlinewidth": 0,
             "ticks": ""
            },
            "colorscale": [
             [
              0,
              "#0d0887"
             ],
             [
              0.1111111111111111,
              "#46039f"
             ],
             [
              0.2222222222222222,
              "#7201a8"
             ],
             [
              0.3333333333333333,
              "#9c179e"
             ],
             [
              0.4444444444444444,
              "#bd3786"
             ],
             [
              0.5555555555555556,
              "#d8576b"
             ],
             [
              0.6666666666666666,
              "#ed7953"
             ],
             [
              0.7777777777777778,
              "#fb9f3a"
             ],
             [
              0.8888888888888888,
              "#fdca26"
             ],
             [
              1,
              "#f0f921"
             ]
            ],
            "type": "heatmapgl"
           }
          ],
          "histogram": [
           {
            "marker": {
             "colorbar": {
              "outlinewidth": 0,
              "ticks": ""
             }
            },
            "type": "histogram"
           }
          ],
          "histogram2d": [
           {
            "colorbar": {
             "outlinewidth": 0,
             "ticks": ""
            },
            "colorscale": [
             [
              0,
              "#0d0887"
             ],
             [
              0.1111111111111111,
              "#46039f"
             ],
             [
              0.2222222222222222,
              "#7201a8"
             ],
             [
              0.3333333333333333,
              "#9c179e"
             ],
             [
              0.4444444444444444,
              "#bd3786"
             ],
             [
              0.5555555555555556,
              "#d8576b"
             ],
             [
              0.6666666666666666,
              "#ed7953"
             ],
             [
              0.7777777777777778,
              "#fb9f3a"
             ],
             [
              0.8888888888888888,
              "#fdca26"
             ],
             [
              1,
              "#f0f921"
             ]
            ],
            "type": "histogram2d"
           }
          ],
          "histogram2dcontour": [
           {
            "colorbar": {
             "outlinewidth": 0,
             "ticks": ""
            },
            "colorscale": [
             [
              0,
              "#0d0887"
             ],
             [
              0.1111111111111111,
              "#46039f"
             ],
             [
              0.2222222222222222,
              "#7201a8"
             ],
             [
              0.3333333333333333,
              "#9c179e"
             ],
             [
              0.4444444444444444,
              "#bd3786"
             ],
             [
              0.5555555555555556,
              "#d8576b"
             ],
             [
              0.6666666666666666,
              "#ed7953"
             ],
             [
              0.7777777777777778,
              "#fb9f3a"
             ],
             [
              0.8888888888888888,
              "#fdca26"
             ],
             [
              1,
              "#f0f921"
             ]
            ],
            "type": "histogram2dcontour"
           }
          ],
          "mesh3d": [
           {
            "colorbar": {
             "outlinewidth": 0,
             "ticks": ""
            },
            "type": "mesh3d"
           }
          ],
          "parcoords": [
           {
            "line": {
             "colorbar": {
              "outlinewidth": 0,
              "ticks": ""
             }
            },
            "type": "parcoords"
           }
          ],
          "pie": [
           {
            "automargin": true,
            "type": "pie"
           }
          ],
          "scatter": [
           {
            "marker": {
             "colorbar": {
              "outlinewidth": 0,
              "ticks": ""
             }
            },
            "type": "scatter"
           }
          ],
          "scatter3d": [
           {
            "line": {
             "colorbar": {
              "outlinewidth": 0,
              "ticks": ""
             }
            },
            "marker": {
             "colorbar": {
              "outlinewidth": 0,
              "ticks": ""
             }
            },
            "type": "scatter3d"
           }
          ],
          "scattercarpet": [
           {
            "marker": {
             "colorbar": {
              "outlinewidth": 0,
              "ticks": ""
             }
            },
            "type": "scattercarpet"
           }
          ],
          "scattergeo": [
           {
            "marker": {
             "colorbar": {
              "outlinewidth": 0,
              "ticks": ""
             }
            },
            "type": "scattergeo"
           }
          ],
          "scattergl": [
           {
            "marker": {
             "colorbar": {
              "outlinewidth": 0,
              "ticks": ""
             }
            },
            "type": "scattergl"
           }
          ],
          "scattermapbox": [
           {
            "marker": {
             "colorbar": {
              "outlinewidth": 0,
              "ticks": ""
             }
            },
            "type": "scattermapbox"
           }
          ],
          "scatterpolar": [
           {
            "marker": {
             "colorbar": {
              "outlinewidth": 0,
              "ticks": ""
             }
            },
            "type": "scatterpolar"
           }
          ],
          "scatterpolargl": [
           {
            "marker": {
             "colorbar": {
              "outlinewidth": 0,
              "ticks": ""
             }
            },
            "type": "scatterpolargl"
           }
          ],
          "scatterternary": [
           {
            "marker": {
             "colorbar": {
              "outlinewidth": 0,
              "ticks": ""
             }
            },
            "type": "scatterternary"
           }
          ],
          "surface": [
           {
            "colorbar": {
             "outlinewidth": 0,
             "ticks": ""
            },
            "colorscale": [
             [
              0,
              "#0d0887"
             ],
             [
              0.1111111111111111,
              "#46039f"
             ],
             [
              0.2222222222222222,
              "#7201a8"
             ],
             [
              0.3333333333333333,
              "#9c179e"
             ],
             [
              0.4444444444444444,
              "#bd3786"
             ],
             [
              0.5555555555555556,
              "#d8576b"
             ],
             [
              0.6666666666666666,
              "#ed7953"
             ],
             [
              0.7777777777777778,
              "#fb9f3a"
             ],
             [
              0.8888888888888888,
              "#fdca26"
             ],
             [
              1,
              "#f0f921"
             ]
            ],
            "type": "surface"
           }
          ],
          "table": [
           {
            "cells": {
             "fill": {
              "color": "#EBF0F8"
             },
             "line": {
              "color": "white"
             }
            },
            "header": {
             "fill": {
              "color": "#C8D4E3"
             },
             "line": {
              "color": "white"
             }
            },
            "type": "table"
           }
          ]
         },
         "layout": {
          "annotationdefaults": {
           "arrowcolor": "#2a3f5f",
           "arrowhead": 0,
           "arrowwidth": 1
          },
          "autotypenumbers": "strict",
          "coloraxis": {
           "colorbar": {
            "outlinewidth": 0,
            "ticks": ""
           }
          },
          "colorscale": {
           "diverging": [
            [
             0,
             "#8e0152"
            ],
            [
             0.1,
             "#c51b7d"
            ],
            [
             0.2,
             "#de77ae"
            ],
            [
             0.3,
             "#f1b6da"
            ],
            [
             0.4,
             "#fde0ef"
            ],
            [
             0.5,
             "#f7f7f7"
            ],
            [
             0.6,
             "#e6f5d0"
            ],
            [
             0.7,
             "#b8e186"
            ],
            [
             0.8,
             "#7fbc41"
            ],
            [
             0.9,
             "#4d9221"
            ],
            [
             1,
             "#276419"
            ]
           ],
           "sequential": [
            [
             0,
             "#0d0887"
            ],
            [
             0.1111111111111111,
             "#46039f"
            ],
            [
             0.2222222222222222,
             "#7201a8"
            ],
            [
             0.3333333333333333,
             "#9c179e"
            ],
            [
             0.4444444444444444,
             "#bd3786"
            ],
            [
             0.5555555555555556,
             "#d8576b"
            ],
            [
             0.6666666666666666,
             "#ed7953"
            ],
            [
             0.7777777777777778,
             "#fb9f3a"
            ],
            [
             0.8888888888888888,
             "#fdca26"
            ],
            [
             1,
             "#f0f921"
            ]
           ],
           "sequentialminus": [
            [
             0,
             "#0d0887"
            ],
            [
             0.1111111111111111,
             "#46039f"
            ],
            [
             0.2222222222222222,
             "#7201a8"
            ],
            [
             0.3333333333333333,
             "#9c179e"
            ],
            [
             0.4444444444444444,
             "#bd3786"
            ],
            [
             0.5555555555555556,
             "#d8576b"
            ],
            [
             0.6666666666666666,
             "#ed7953"
            ],
            [
             0.7777777777777778,
             "#fb9f3a"
            ],
            [
             0.8888888888888888,
             "#fdca26"
            ],
            [
             1,
             "#f0f921"
            ]
           ]
          },
          "colorway": [
           "#636efa",
           "#EF553B",
           "#00cc96",
           "#ab63fa",
           "#FFA15A",
           "#19d3f3",
           "#FF6692",
           "#B6E880",
           "#FF97FF",
           "#FECB52"
          ],
          "font": {
           "color": "#2a3f5f"
          },
          "geo": {
           "bgcolor": "white",
           "lakecolor": "white",
           "landcolor": "#E5ECF6",
           "showlakes": true,
           "showland": true,
           "subunitcolor": "white"
          },
          "hoverlabel": {
           "align": "left"
          },
          "hovermode": "closest",
          "mapbox": {
           "style": "light"
          },
          "paper_bgcolor": "white",
          "plot_bgcolor": "#E5ECF6",
          "polar": {
           "angularaxis": {
            "gridcolor": "white",
            "linecolor": "white",
            "ticks": ""
           },
           "bgcolor": "#E5ECF6",
           "radialaxis": {
            "gridcolor": "white",
            "linecolor": "white",
            "ticks": ""
           }
          },
          "scene": {
           "xaxis": {
            "backgroundcolor": "#E5ECF6",
            "gridcolor": "white",
            "gridwidth": 2,
            "linecolor": "white",
            "showbackground": true,
            "ticks": "",
            "zerolinecolor": "white"
           },
           "yaxis": {
            "backgroundcolor": "#E5ECF6",
            "gridcolor": "white",
            "gridwidth": 2,
            "linecolor": "white",
            "showbackground": true,
            "ticks": "",
            "zerolinecolor": "white"
           },
           "zaxis": {
            "backgroundcolor": "#E5ECF6",
            "gridcolor": "white",
            "gridwidth": 2,
            "linecolor": "white",
            "showbackground": true,
            "ticks": "",
            "zerolinecolor": "white"
           }
          },
          "shapedefaults": {
           "line": {
            "color": "#2a3f5f"
           }
          },
          "ternary": {
           "aaxis": {
            "gridcolor": "white",
            "linecolor": "white",
            "ticks": ""
           },
           "baxis": {
            "gridcolor": "white",
            "linecolor": "white",
            "ticks": ""
           },
           "bgcolor": "#E5ECF6",
           "caxis": {
            "gridcolor": "white",
            "linecolor": "white",
            "ticks": ""
           }
          },
          "title": {
           "x": 0.05
          },
          "xaxis": {
           "automargin": true,
           "gridcolor": "white",
           "linecolor": "white",
           "ticks": "",
           "title": {
            "standoff": 15
           },
           "zerolinecolor": "white",
           "zerolinewidth": 2
          },
          "yaxis": {
           "automargin": true,
           "gridcolor": "white",
           "linecolor": "white",
           "ticks": "",
           "title": {
            "standoff": 15
           },
           "zerolinecolor": "white",
           "zerolinewidth": 2
          }
         }
        },
        "xaxis": {
         "anchor": "y",
         "domain": [
          0,
          1
         ],
         "title": {
          "text": "x"
         }
        },
        "yaxis": {
         "anchor": "x",
         "domain": [
          0,
          1
         ],
         "title": {
          "text": "y"
         }
        }
       }
      }
     },
     "metadata": {},
     "output_type": "display_data"
    }
   ],
   "source": [
    "import plotly.express as px\n",
    "\n",
    "px.line(x=[0, 1, 2], y=[0, 1, 2])"
   ]
  }
 ],
 "metadata": {
  "kernelspec": {
   "display_name": ".venv",
   "language": "python",
   "name": "python3"
  },
  "language_info": {
   "codemirror_mode": {
    "name": "ipython",
    "version": 3
   },
   "file_extension": ".py",
   "mimetype": "text/x-python",
   "name": "python",
   "nbconvert_exporter": "python",
   "pygments_lexer": "ipython3",
   "version": "3.9.1"
  },
  "orig_nbformat": 4,
  "vscode": {
   "interpreter": {
    "hash": "7018afefbba554b365651713f93b052152ea456501e82653f9b7a631f76d9216"
   }
  }
 },
 "nbformat": 4,
 "nbformat_minor": 2
}
