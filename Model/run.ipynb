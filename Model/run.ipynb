{
 "cells": [
  {
   "cell_type": "code",
   "execution_count": 1,
   "metadata": {},
   "outputs": [
    {
     "name": "stdout",
     "output_type": "stream",
     "text": [
      "Name: radcad\n",
      "Version: 0.12.0\n",
      "Summary: A Python package for dynamical systems modelling & simulation, inspired by and compatible with cadCAD\n",
      "Home-page: \n",
      "Author: CADLabs\n",
      "Author-email: benschza@users.noreply.github.com\n",
      "License: \n",
      "Location: /Users/anthonykatwan/Desktop/QTM Interface/.venv/lib/python3.9/site-packages\n",
      "Requires: pandas, pathos\n",
      "Required-by: \n",
      "Note: you may need to restart the kernel to use updated packages.\n"
     ]
    }
   ],
   "source": [
    "%pip show radcad"
   ]
  },
  {
   "cell_type": "code",
   "execution_count": 2,
   "metadata": {},
   "outputs": [],
   "source": [
    "# Dependences\n",
    "import pandas as pd\n",
    "import numpy as np\n",
    "\n",
    "# radCAD\n",
    "from radcad import Model, Simulation, Experiment\n",
    "from radcad.engine import Engine, Backend\n",
    "\n"
   ]
  },
  {
   "cell_type": "code",
   "execution_count": 3,
   "metadata": {},
   "outputs": [
    {
     "data": {
      "text/plain": [
       "<module 'sys_params' from '/Users/anthonykatwan/Desktop/QTM Interface/Model/sys_params.py'>"
      ]
     },
     "execution_count": 3,
     "metadata": {},
     "output_type": "execute_result"
    }
   ],
   "source": [
    "import state_variables\n",
    "import state_update_blocks\n",
    "import sys_params\n",
    "from processing import *\n",
    "\n",
    "import importlib\n",
    "importlib.reload(state_variables)\n",
    "importlib.reload(state_update_blocks)\n",
    "importlib.reload(sys_params)\n"
   ]
  },
  {
   "cell_type": "code",
   "execution_count": 4,
   "metadata": {},
   "outputs": [],
   "source": [
    "\n",
    "import traceback\n",
    "\n",
    "\n",
    "MONTE_CARLO_RUNS = 1\n",
    "TIMESTEPS = 30\n",
    "\n",
    "model = Model(initial_state=state_variables.initial_state, params=sys_params.sys_param, state_update_blocks=state_update_blocks.state_update_block)\n",
    "simulation = Simulation(model=model, timesteps=TIMESTEPS, runs=MONTE_CARLO_RUNS)\n",
    "\n",
    "result = simulation.run()\n",
    "df = pd.DataFrame(result)\n"
   ]
  },
  {
   "cell_type": "code",
   "execution_count": 5,
   "metadata": {},
   "outputs": [
    {
     "data": {
      "text/html": [
       "<div>\n",
       "<style scoped>\n",
       "    .dataframe tbody tr th:only-of-type {\n",
       "        vertical-align: middle;\n",
       "    }\n",
       "\n",
       "    .dataframe tbody tr th {\n",
       "        vertical-align: top;\n",
       "    }\n",
       "\n",
       "    .dataframe thead th {\n",
       "        text-align: right;\n",
       "    }\n",
       "</style>\n",
       "<table border=\"1\" class=\"dataframe\">\n",
       "  <thead>\n",
       "    <tr style=\"text-align: right;\">\n",
       "      <th></th>\n",
       "      <th>investors</th>\n",
       "      <th>token_economy</th>\n",
       "      <th>simulation</th>\n",
       "      <th>subset</th>\n",
       "      <th>run</th>\n",
       "      <th>substep</th>\n",
       "      <th>timestep</th>\n",
       "    </tr>\n",
       "  </thead>\n",
       "  <tbody>\n",
       "    <tr>\n",
       "      <th>0</th>\n",
       "      <td>{'Investor 1': {'percentage_allocation': 0.2, ...</td>\n",
       "      <td>{'initial_token_supply': 1000000, 'current_cir...</td>\n",
       "      <td>0</td>\n",
       "      <td>0</td>\n",
       "      <td>1</td>\n",
       "      <td>0</td>\n",
       "      <td>0</td>\n",
       "    </tr>\n",
       "    <tr>\n",
       "      <th>1</th>\n",
       "      <td>{'Investor 1': {'percentage_allocation': 0.2, ...</td>\n",
       "      <td>{'initial_token_supply': 1000000, 'current_cir...</td>\n",
       "      <td>0</td>\n",
       "      <td>0</td>\n",
       "      <td>1</td>\n",
       "      <td>1</td>\n",
       "      <td>1</td>\n",
       "    </tr>\n",
       "    <tr>\n",
       "      <th>2</th>\n",
       "      <td>{'Investor 1': {'percentage_allocation': 0.2, ...</td>\n",
       "      <td>{'initial_token_supply': 1000000, 'current_cir...</td>\n",
       "      <td>0</td>\n",
       "      <td>0</td>\n",
       "      <td>1</td>\n",
       "      <td>1</td>\n",
       "      <td>2</td>\n",
       "    </tr>\n",
       "    <tr>\n",
       "      <th>3</th>\n",
       "      <td>{'Investor 1': {'percentage_allocation': 0.2, ...</td>\n",
       "      <td>{'initial_token_supply': 1000000, 'current_cir...</td>\n",
       "      <td>0</td>\n",
       "      <td>0</td>\n",
       "      <td>1</td>\n",
       "      <td>1</td>\n",
       "      <td>3</td>\n",
       "    </tr>\n",
       "    <tr>\n",
       "      <th>4</th>\n",
       "      <td>{'Investor 1': {'percentage_allocation': 0.2, ...</td>\n",
       "      <td>{'initial_token_supply': 1000000, 'current_cir...</td>\n",
       "      <td>0</td>\n",
       "      <td>0</td>\n",
       "      <td>1</td>\n",
       "      <td>1</td>\n",
       "      <td>4</td>\n",
       "    </tr>\n",
       "  </tbody>\n",
       "</table>\n",
       "</div>"
      ],
      "text/plain": [
       "                                           investors  \\\n",
       "0  {'Investor 1': {'percentage_allocation': 0.2, ...   \n",
       "1  {'Investor 1': {'percentage_allocation': 0.2, ...   \n",
       "2  {'Investor 1': {'percentage_allocation': 0.2, ...   \n",
       "3  {'Investor 1': {'percentage_allocation': 0.2, ...   \n",
       "4  {'Investor 1': {'percentage_allocation': 0.2, ...   \n",
       "\n",
       "                                       token_economy  simulation  subset  run  \\\n",
       "0  {'initial_token_supply': 1000000, 'current_cir...           0       0    1   \n",
       "1  {'initial_token_supply': 1000000, 'current_cir...           0       0    1   \n",
       "2  {'initial_token_supply': 1000000, 'current_cir...           0       0    1   \n",
       "3  {'initial_token_supply': 1000000, 'current_cir...           0       0    1   \n",
       "4  {'initial_token_supply': 1000000, 'current_cir...           0       0    1   \n",
       "\n",
       "   substep  timestep  \n",
       "0        0         0  \n",
       "1        1         1  \n",
       "2        1         2  \n",
       "3        1         3  \n",
       "4        1         4  "
      ]
     },
     "execution_count": 5,
     "metadata": {},
     "output_type": "execute_result"
    }
   ],
   "source": [
    "\n",
    "df.head()\n",
    "\n",
    "#df.token_economy"
   ]
  },
  {
   "cell_type": "code",
   "execution_count": null,
   "metadata": {},
   "outputs": [],
   "source": [
    "\n",
    "\n",
    "\n",
    "\n"
   ]
  },
  {
   "cell_type": "code",
   "execution_count": 6,
   "metadata": {},
   "outputs": [
    {
     "data": {
      "text/html": [
       "<div>\n",
       "<style scoped>\n",
       "    .dataframe tbody tr th:only-of-type {\n",
       "        vertical-align: middle;\n",
       "    }\n",
       "\n",
       "    .dataframe tbody tr th {\n",
       "        vertical-align: top;\n",
       "    }\n",
       "\n",
       "    .dataframe thead th {\n",
       "        text-align: right;\n",
       "    }\n",
       "</style>\n",
       "<table border=\"1\" class=\"dataframe\">\n",
       "  <thead>\n",
       "    <tr style=\"text-align: right;\">\n",
       "      <th></th>\n",
       "      <th>Investor_Name</th>\n",
       "      <th>current_allocation</th>\n",
       "      <th>timestep</th>\n",
       "    </tr>\n",
       "  </thead>\n",
       "  <tbody>\n",
       "    <tr>\n",
       "      <th>0</th>\n",
       "      <td>Investor 1</td>\n",
       "      <td>50000.0</td>\n",
       "      <td>0</td>\n",
       "    </tr>\n",
       "    <tr>\n",
       "      <th>1</th>\n",
       "      <td>Investor 2</td>\n",
       "      <td>30000.0</td>\n",
       "      <td>0</td>\n",
       "    </tr>\n",
       "    <tr>\n",
       "      <th>2</th>\n",
       "      <td>Investor 3</td>\n",
       "      <td>250000.0</td>\n",
       "      <td>0</td>\n",
       "    </tr>\n",
       "    <tr>\n",
       "      <th>3</th>\n",
       "      <td>Investor 1</td>\n",
       "      <td>50000.0</td>\n",
       "      <td>1</td>\n",
       "    </tr>\n",
       "    <tr>\n",
       "      <th>4</th>\n",
       "      <td>Investor 2</td>\n",
       "      <td>30000.0</td>\n",
       "      <td>1</td>\n",
       "    </tr>\n",
       "    <tr>\n",
       "      <th>...</th>\n",
       "      <td>...</td>\n",
       "      <td>...</td>\n",
       "      <td>...</td>\n",
       "    </tr>\n",
       "    <tr>\n",
       "      <th>88</th>\n",
       "      <td>Investor 2</td>\n",
       "      <td>300000.0</td>\n",
       "      <td>29</td>\n",
       "    </tr>\n",
       "    <tr>\n",
       "      <th>89</th>\n",
       "      <td>Investor 3</td>\n",
       "      <td>500000.0</td>\n",
       "      <td>29</td>\n",
       "    </tr>\n",
       "    <tr>\n",
       "      <th>90</th>\n",
       "      <td>Investor 1</td>\n",
       "      <td>200000.0</td>\n",
       "      <td>30</td>\n",
       "    </tr>\n",
       "    <tr>\n",
       "      <th>91</th>\n",
       "      <td>Investor 2</td>\n",
       "      <td>300000.0</td>\n",
       "      <td>30</td>\n",
       "    </tr>\n",
       "    <tr>\n",
       "      <th>92</th>\n",
       "      <td>Investor 3</td>\n",
       "      <td>500000.0</td>\n",
       "      <td>30</td>\n",
       "    </tr>\n",
       "  </tbody>\n",
       "</table>\n",
       "<p>93 rows × 3 columns</p>\n",
       "</div>"
      ],
      "text/plain": [
       "   Investor_Name  current_allocation timestep\n",
       "0     Investor 1             50000.0        0\n",
       "1     Investor 2             30000.0        0\n",
       "2     Investor 3            250000.0        0\n",
       "3     Investor 1             50000.0        1\n",
       "4     Investor 2             30000.0        1\n",
       "..           ...                 ...      ...\n",
       "88    Investor 2            300000.0       29\n",
       "89    Investor 3            500000.0       29\n",
       "90    Investor 1            200000.0       30\n",
       "91    Investor 2            300000.0       30\n",
       "92    Investor 3            500000.0       30\n",
       "\n",
       "[93 rows x 3 columns]"
      ]
     },
     "execution_count": 6,
     "metadata": {},
     "output_type": "execute_result"
    }
   ],
   "source": [
    "\n",
    "\n",
    "investor_df = extract_investors(df)\n",
    "\n",
    "investor_df"
   ]
  },
  {
   "cell_type": "code",
   "execution_count": 19,
   "metadata": {},
   "outputs": [
    {
     "name": "stderr",
     "output_type": "stream",
     "text": [
      "/var/folders/1t/5t776sq96779p785bgzmh9h40000gn/T/ipykernel_52361/2193997174.py:5: FutureWarning: In a future version, the Index constructor will not infer numeric dtypes when passed object-dtype sequences (matching Series behavior)\n",
      "  df_pivot = df.pivot(index='timestep', columns='Investor_Name', values='current_allocation')\n"
     ]
    },
    {
     "data": {
      "image/png": "[encoded data removed]",
      "text/plain": [
       "<Figure size 640x480 with 1 Axes>"
      ]
     },
     "metadata": {},
     "output_type": "display_data"
    }
   ],
   "source": [
    "\n",
    "\n",
    "\n",
    "    \n",
    "plot_stacked_area_graph(investor_df)\n"
   ]
  }
 ],
 "metadata": {
  "kernelspec": {
   "display_name": ".venv",
   "language": "python",
   "name": "python3"
  },
  "language_info": {
   "codemirror_mode": {
    "name": "ipython",
    "version": 3
   },
   "file_extension": ".py",
   "mimetype": "text/x-python",
   "name": "python",
   "nbconvert_exporter": "python",
   "pygments_lexer": "ipython3",
   "version": "3.9.1"
  },
  "vscode": {
   "interpreter": {
    "hash": "7018afefbba554b365651713f93b052152ea456501e82653f9b7a631f76d9216"
   }
  }
 },
 "nbformat": 4,
 "nbformat_minor": 4
}
