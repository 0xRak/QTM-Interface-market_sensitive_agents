{
 "cells": [
  {
   "cell_type": "code",
   "execution_count": null,
   "metadata": {},
   "outputs": [],
   "source": [
    "%pip show radcad"
   ]
  },
  {
   "cell_type": "code",
   "execution_count": 1,
   "metadata": {},
   "outputs": [],
   "source": [
    "# Dependences\n",
    "import pandas as pd\n",
    "import numpy as np\n",
    "\n",
    "# radCAD\n",
    "from radcad import Model, Simulation, Experiment\n",
    "from radcad.engine import Engine, Backend\n",
    "\n"
   ]
  },
  {
   "cell_type": "code",
   "execution_count": 2,
   "metadata": {},
   "outputs": [
    {
     "name": "stdout",
     "output_type": "stream",
     "text": [
      "{'token_launch_price': 0.6, 'liquidity_pool_fund_allocation': 988333333.3333333, 'allocation_by_raised_amount': 139.2018779342723, 'initial_token_MC_price': 34408333.333333336, 'initial_token_FDV_price': 60000000.0, 'initial_pairing_amount': 988333333.3333333, 'token_pair_weighting': 0.5}\n"
     ]
    }
   ],
   "source": [
    "import state_variables\n",
    "import state_update_blocks\n",
    "import sys_params\n",
    "from processing import *\n",
    "\n",
    "#import importlib\n",
    "#importlib.reload(state_variables)\n",
    "#importlib.reload(state_update_blocks)\n",
    "#importlib.reload(sys_params)\n",
    "\n"
   ]
  },
  {
   "cell_type": "code",
   "execution_count": 3,
   "metadata": {},
   "outputs": [
    {
     "ename": "KeyError",
     "evalue": "0",
     "output_type": "error",
     "traceback": [
      "\u001b[1;31m---------------------------------------------------------------------------\u001b[0m",
      "\u001b[1;31mKeyError\u001b[0m                                  Traceback (most recent call last)",
      "Cell \u001b[1;32mIn[3], line 10\u001b[0m\n\u001b[0;32m      7\u001b[0m model \u001b[39m=\u001b[39m Model(initial_state\u001b[39m=\u001b[39mstate_variables\u001b[39m.\u001b[39minitial_state, params\u001b[39m=\u001b[39msys_params\u001b[39m.\u001b[39msys_param, state_update_blocks\u001b[39m=\u001b[39mstate_update_blocks\u001b[39m.\u001b[39mstate_update_block)\n\u001b[0;32m      8\u001b[0m simulation \u001b[39m=\u001b[39m Simulation(model\u001b[39m=\u001b[39mmodel, timesteps\u001b[39m=\u001b[39mTIMESTEPS, runs\u001b[39m=\u001b[39mMONTE_CARLO_RUNS)\n\u001b[1;32m---> 10\u001b[0m result \u001b[39m=\u001b[39m simulation\u001b[39m.\u001b[39;49mrun()\n\u001b[0;32m     11\u001b[0m df \u001b[39m=\u001b[39m pd\u001b[39m.\u001b[39mDataFrame(result)\n",
      "File \u001b[1;32mc:\\Users\\achim\\Desktop\\Outlier_Ventures\\Reasearch\\Data\\MC_Comparison\\venv\\lib\\site-packages\\radcad\\wrappers.py:151\u001b[0m, in \u001b[0;36mSimulation.run\u001b[1;34m(self)\u001b[0m\n\u001b[0;32m    150\u001b[0m \u001b[39mdef\u001b[39;00m \u001b[39mrun\u001b[39m(\u001b[39mself\u001b[39m):\n\u001b[1;32m--> 151\u001b[0m     \u001b[39mreturn\u001b[39;00m \u001b[39mself\u001b[39;49m\u001b[39m.\u001b[39;49mengine\u001b[39m.\u001b[39;49m_run(executable\u001b[39m=\u001b[39;49m\u001b[39mself\u001b[39;49m)\n",
      "File \u001b[1;32mc:\\Users\\achim\\Desktop\\Outlier_Ventures\\Reasearch\\Data\\MC_Comparison\\venv\\lib\\site-packages\\radcad\\engine.py:80\u001b[0m, in \u001b[0;36mEngine._run\u001b[1;34m(self, executable, **kwargs)\u001b[0m\n\u001b[0;32m     77\u001b[0m \u001b[39melse\u001b[39;00m:\n\u001b[0;32m     78\u001b[0m     \u001b[39mraise\u001b[39;00m \u001b[39mException\u001b[39;00m(\u001b[39mf\u001b[39m\u001b[39m\"\u001b[39m\u001b[39mExecution backend must be one of \u001b[39m\u001b[39m{\u001b[39;00mBackend\u001b[39m.\u001b[39m_member_names_\u001b[39m}\u001b[39;00m\u001b[39m, not \u001b[39m\u001b[39m{\u001b[39;00m\u001b[39mself\u001b[39m\u001b[39m.\u001b[39mbackend\u001b[39m}\u001b[39;00m\u001b[39m\"\u001b[39m)\n\u001b[1;32m---> 80\u001b[0m result \u001b[39m=\u001b[39m Executor(\u001b[39mself\u001b[39;49m)\u001b[39m.\u001b[39;49mexecute_runs()\n\u001b[0;32m     82\u001b[0m \u001b[39mself\u001b[39m\u001b[39m.\u001b[39mexecutable\u001b[39m.\u001b[39mresults, \u001b[39mself\u001b[39m\u001b[39m.\u001b[39mexecutable\u001b[39m.\u001b[39mexceptions \u001b[39m=\u001b[39m extract_exceptions(result)\n\u001b[0;32m     83\u001b[0m \u001b[39mself\u001b[39m\u001b[39m.\u001b[39mexecutable\u001b[39m.\u001b[39m_after_experiment(experiment\u001b[39m=\u001b[39m(executable \u001b[39mif\u001b[39;00m \u001b[39misinstance\u001b[39m(executable, wrappers\u001b[39m.\u001b[39mExperiment) \u001b[39melse\u001b[39;00m \u001b[39mNone\u001b[39;00m))\n",
      "File \u001b[1;32mc:\\Users\\achim\\Desktop\\Outlier_Ventures\\Reasearch\\Data\\MC_Comparison\\venv\\lib\\site-packages\\radcad\\backends\\pathos.py:23\u001b[0m, in \u001b[0;36mExecutorPathos.execute_runs\u001b[1;34m(self)\u001b[0m\n\u001b[0;32m     19\u001b[0m \u001b[39mdef\u001b[39;00m \u001b[39mexecute_runs\u001b[39m(\u001b[39mself\u001b[39m):\n\u001b[0;32m     20\u001b[0m     \u001b[39mwith\u001b[39;00m ProcessPool(\u001b[39mself\u001b[39m\u001b[39m.\u001b[39mengine\u001b[39m.\u001b[39mprocesses) \u001b[39mas\u001b[39;00m pool:\n\u001b[0;32m     21\u001b[0m         result \u001b[39m=\u001b[39m pool\u001b[39m.\u001b[39mmap(\n\u001b[0;32m     22\u001b[0m             core\u001b[39m.\u001b[39m_single_run_wrapper,\n\u001b[1;32m---> 23\u001b[0m             [\n\u001b[0;32m     24\u001b[0m                 (config, \u001b[39mself\u001b[39m\u001b[39m.\u001b[39mengine\u001b[39m.\u001b[39mraise_exceptions)\n\u001b[0;32m     25\u001b[0m                 \u001b[39mfor\u001b[39;00m config \u001b[39min\u001b[39;00m \u001b[39mself\u001b[39m\u001b[39m.\u001b[39mengine\u001b[39m.\u001b[39m_run_generator\n\u001b[0;32m     26\u001b[0m             ],\n\u001b[0;32m     27\u001b[0m         )\n\u001b[0;32m     28\u001b[0m         pool\u001b[39m.\u001b[39mclose()\n\u001b[0;32m     29\u001b[0m         pool\u001b[39m.\u001b[39mjoin()\n",
      "File \u001b[1;32mc:\\Users\\achim\\Desktop\\Outlier_Ventures\\Reasearch\\Data\\MC_Comparison\\venv\\lib\\site-packages\\radcad\\backends\\pathos.py:23\u001b[0m, in \u001b[0;36m<listcomp>\u001b[1;34m(.0)\u001b[0m\n\u001b[0;32m     19\u001b[0m \u001b[39mdef\u001b[39;00m \u001b[39mexecute_runs\u001b[39m(\u001b[39mself\u001b[39m):\n\u001b[0;32m     20\u001b[0m     \u001b[39mwith\u001b[39;00m ProcessPool(\u001b[39mself\u001b[39m\u001b[39m.\u001b[39mengine\u001b[39m.\u001b[39mprocesses) \u001b[39mas\u001b[39;00m pool:\n\u001b[0;32m     21\u001b[0m         result \u001b[39m=\u001b[39m pool\u001b[39m.\u001b[39mmap(\n\u001b[0;32m     22\u001b[0m             core\u001b[39m.\u001b[39m_single_run_wrapper,\n\u001b[1;32m---> 23\u001b[0m             [\n\u001b[0;32m     24\u001b[0m                 (config, \u001b[39mself\u001b[39m\u001b[39m.\u001b[39mengine\u001b[39m.\u001b[39mraise_exceptions)\n\u001b[0;32m     25\u001b[0m                 \u001b[39mfor\u001b[39;00m config \u001b[39min\u001b[39;00m \u001b[39mself\u001b[39m\u001b[39m.\u001b[39mengine\u001b[39m.\u001b[39m_run_generator\n\u001b[0;32m     26\u001b[0m             ],\n\u001b[0;32m     27\u001b[0m         )\n\u001b[0;32m     28\u001b[0m         pool\u001b[39m.\u001b[39mclose()\n\u001b[0;32m     29\u001b[0m         pool\u001b[39m.\u001b[39mjoin()\n",
      "File \u001b[1;32mc:\\Users\\achim\\Desktop\\Outlier_Ventures\\Reasearch\\Data\\MC_Comparison\\venv\\lib\\site-packages\\radcad\\engine.py:104\u001b[0m, in \u001b[0;36mEngine._run_stream\u001b[1;34m(self, configs)\u001b[0m\n\u001b[0;32m    102\u001b[0m state_update_blocks \u001b[39m=\u001b[39m simulation\u001b[39m.\u001b[39mmodel\u001b[39m.\u001b[39mstate_update_blocks\n\u001b[0;32m    103\u001b[0m params \u001b[39m=\u001b[39m simulation\u001b[39m.\u001b[39mmodel\u001b[39m.\u001b[39mparams\n\u001b[1;32m--> 104\u001b[0m param_sweep \u001b[39m=\u001b[39m core\u001b[39m.\u001b[39;49mgenerate_parameter_sweep(params)\n\u001b[0;32m    106\u001b[0m \u001b[39mself\u001b[39m\u001b[39m.\u001b[39mexecutable\u001b[39m.\u001b[39m_before_simulation(\n\u001b[0;32m    107\u001b[0m     simulation\u001b[39m=\u001b[39msimulation\n\u001b[0;32m    108\u001b[0m )\n\u001b[0;32m    110\u001b[0m \u001b[39m# NOTE Hook allows mutation of RunArgs\u001b[39;00m\n",
      "File \u001b[1;32mc:\\Users\\achim\\Desktop\\Outlier_Ventures\\Reasearch\\Data\\MC_Comparison\\venv\\lib\\site-packages\\radcad\\core.py:159\u001b[0m, in \u001b[0;36mgenerate_parameter_sweep\u001b[1;34m(params)\u001b[0m\n\u001b[0;32m    156\u001b[0m param_set \u001b[39m=\u001b[39m {}\n\u001b[0;32m    157\u001b[0m \u001b[39mfor\u001b[39;00m (key, value) \u001b[39min\u001b[39;00m params\u001b[39m.\u001b[39mitems():\n\u001b[0;32m    158\u001b[0m     param \u001b[39m=\u001b[39m (\n\u001b[1;32m--> 159\u001b[0m         value[sweep_index]\n\u001b[0;32m    160\u001b[0m         \u001b[39mif\u001b[39;00m sweep_index \u001b[39m<\u001b[39m \u001b[39mlen\u001b[39m(value)\n\u001b[0;32m    161\u001b[0m         \u001b[39melse\u001b[39;00m value[\u001b[39m-\u001b[39m\u001b[39m1\u001b[39m]\n\u001b[0;32m    162\u001b[0m     )\n\u001b[0;32m    163\u001b[0m     param_set[key] \u001b[39m=\u001b[39m param\n\u001b[0;32m    164\u001b[0m param_sweep\u001b[39m.\u001b[39mappend(param_set)\n",
      "\u001b[1;31mKeyError\u001b[0m: 0"
     ]
    }
   ],
   "source": [
    "\n",
    "import traceback\n",
    "\n",
    "\n",
    "MONTE_CARLO_RUNS = 1\n",
    "TIMESTEPS = 60\n",
    "\n",
    "model = Model(initial_state=state_variables.initial_state, params=sys_params.sys_param, state_update_blocks=state_update_blocks.state_update_block)\n",
    "simulation = Simulation(model=model, timesteps=TIMESTEPS, runs=MONTE_CARLO_RUNS)\n",
    "\n",
    "result = simulation.run()\n",
    "df = pd.DataFrame(result)\n"
   ]
  },
  {
   "cell_type": "code",
   "execution_count": null,
   "metadata": {},
   "outputs": [],
   "source": [
    "\n",
    "df.head()\n",
    "#df.token_economy\n"
   ]
  },
  {
   "cell_type": "code",
   "execution_count": null,
   "metadata": {},
   "outputs": [],
   "source": [
    "investor_df = extract_allocation(df)\n",
    "\n",
    "investor_df.head(20)"
   ]
  },
  {
   "cell_type": "code",
   "execution_count": null,
   "metadata": {},
   "outputs": [],
   "source": [
    "\n",
    "\n",
    "    \n",
    "plot_stacked_area_graph(investor_df)\n"
   ]
  },
  {
   "cell_type": "code",
   "execution_count": null,
   "metadata": {},
   "outputs": [],
   "source": [
    "effective_token_price_plot(df)\n",
    "\n"
   ]
  },
  {
   "cell_type": "code",
   "execution_count": null,
   "metadata": {},
   "outputs": [],
   "source": [
    "initial_allocation_pie(df)"
   ]
  },
  {
   "cell_type": "markdown",
   "metadata": {},
   "source": []
  }
 ],
 "metadata": {
  "kernelspec": {
   "display_name": "venv",
   "language": "python",
   "name": "venv"
  },
  "language_info": {
   "codemirror_mode": {
    "name": "ipython",
    "version": 3
   },
   "file_extension": ".py",
   "mimetype": "text/x-python",
   "name": "python",
   "nbconvert_exporter": "python",
   "pygments_lexer": "ipython3",
   "version": "3.9.13"
  },
  "vscode": {
   "interpreter": {
    "hash": "7018afefbba554b365651713f93b052152ea456501e82653f9b7a631f76d9216"
   }
  }
 },
 "nbformat": 4,
 "nbformat_minor": 4
}
